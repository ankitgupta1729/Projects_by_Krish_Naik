{
 "cells": [
  {
   "cell_type": "code",
   "execution_count": 2,
   "metadata": {},
   "outputs": [
    {
     "data": {
      "text/plain": [
       "'3.6.13'"
      ]
     },
     "execution_count": 2,
     "metadata": {},
     "output_type": "execute_result"
    }
   ],
   "source": [
    "from platform import python_version\n",
    "python_version()"
   ]
  },
  {
   "cell_type": "code",
   "execution_count": 3,
   "metadata": {},
   "outputs": [
    {
     "data": {
      "text/plain": [
       "'c:\\\\Users\\\\ankit19.gupta\\\\Desktop\\\\Self Projects\\\\1. Deep Learning in Medical Science'"
      ]
     },
     "execution_count": 3,
     "metadata": {},
     "output_type": "execute_result"
    }
   ],
   "source": [
    "import os\n",
    "os.getcwd()"
   ]
  },
  {
   "cell_type": "code",
   "execution_count": 4,
   "metadata": {},
   "outputs": [],
   "source": [
    "from keras.layers import Input, Lambda, Dense, Flatten\n",
    "from keras.models import Model\n",
    "from keras.applications.vgg16 import VGG16,preprocess_input\n",
    "from keras.preprocessing import image\n",
    "from keras.preprocessing.image import ImageDataGenerator\n",
    "from keras.models import Sequential\n",
    "import numpy as np\n",
    "from glob import glob\n",
    "import matplotlib.pyplot as plt"
   ]
  },
  {
   "cell_type": "code",
   "execution_count": 5,
   "metadata": {},
   "outputs": [],
   "source": [
    "# re-size all the image sizes to this size\n",
    "IMAGE_SIZE=[224,224]"
   ]
  },
  {
   "cell_type": "code",
   "execution_count": 6,
   "metadata": {},
   "outputs": [],
   "source": [
    "train_path='Datasets/train'\n",
    "validation_path='Datasets/test'"
   ]
  },
  {
   "cell_type": "code",
   "execution_count": 7,
   "metadata": {},
   "outputs": [],
   "source": [
    "## add processing layers to the front of vgg16\n",
    "vgg=VGG16(input_shape=IMAGE_SIZE+[3],weights='imagenet',include_top=False)"
   ]
  },
  {
   "cell_type": "code",
   "execution_count": 8,
   "metadata": {},
   "outputs": [],
   "source": [
    "## don't train the weights because we are already using the trained weights from imagenet algo above\n",
    "for layer in vgg.layers:\n",
    "    layer.trainable=False"
   ]
  },
  {
   "cell_type": "code",
   "execution_count": 9,
   "metadata": {},
   "outputs": [],
   "source": [
    "## find the number of classes based on the number of folders in train folder i.e. normal and pneumonia using glob function\n",
    "folders=glob('Datasets/train/*')"
   ]
  },
  {
   "cell_type": "code",
   "execution_count": 10,
   "metadata": {},
   "outputs": [
    {
     "data": {
      "text/plain": [
       "['Datasets/train\\\\NORMAL', 'Datasets/train\\\\PNEUMONIA']"
      ]
     },
     "execution_count": 10,
     "metadata": {},
     "output_type": "execute_result"
    }
   ],
   "source": [
    "folders"
   ]
  },
  {
   "cell_type": "code",
   "execution_count": 11,
   "metadata": {},
   "outputs": [],
   "source": [
    "## in vgg() models, we have used include_top=False because we are not using the top layer for classification\n",
    "## because we have already done in folders variable"
   ]
  },
  {
   "cell_type": "code",
   "execution_count": 12,
   "metadata": {},
   "outputs": [],
   "source": [
    "x=Flatten()(vgg.output)"
   ]
  },
  {
   "cell_type": "code",
   "execution_count": 13,
   "metadata": {},
   "outputs": [],
   "source": [
    "## you can add more layers if you want as:\n",
    "#x=Dense(1000,activation='relu')(x)"
   ]
  },
  {
   "cell_type": "code",
   "execution_count": 14,
   "metadata": {},
   "outputs": [],
   "source": [
    "## adding final layer\n",
    "prediction=Dense(len(folders),activation='softmax')(x)"
   ]
  },
  {
   "cell_type": "code",
   "execution_count": 15,
   "metadata": {},
   "outputs": [],
   "source": [
    "## create a model object\n",
    "model=Model(inputs=vgg.input,outputs=prediction)"
   ]
  },
  {
   "cell_type": "code",
   "execution_count": 16,
   "metadata": {},
   "outputs": [
    {
     "name": "stdout",
     "output_type": "stream",
     "text": [
      "Model: \"model\"\n",
      "_________________________________________________________________\n",
      "Layer (type)                 Output Shape              Param #   \n",
      "=================================================================\n",
      "input_1 (InputLayer)         [(None, 224, 224, 3)]     0         \n",
      "_________________________________________________________________\n",
      "block1_conv1 (Conv2D)        (None, 224, 224, 64)      1792      \n",
      "_________________________________________________________________\n",
      "block1_conv2 (Conv2D)        (None, 224, 224, 64)      36928     \n",
      "_________________________________________________________________\n",
      "block1_pool (MaxPooling2D)   (None, 112, 112, 64)      0         \n",
      "_________________________________________________________________\n",
      "block2_conv1 (Conv2D)        (None, 112, 112, 128)     73856     \n",
      "_________________________________________________________________\n",
      "block2_conv2 (Conv2D)        (None, 112, 112, 128)     147584    \n",
      "_________________________________________________________________\n",
      "block2_pool (MaxPooling2D)   (None, 56, 56, 128)       0         \n",
      "_________________________________________________________________\n",
      "block3_conv1 (Conv2D)        (None, 56, 56, 256)       295168    \n",
      "_________________________________________________________________\n",
      "block3_conv2 (Conv2D)        (None, 56, 56, 256)       590080    \n",
      "_________________________________________________________________\n",
      "block3_conv3 (Conv2D)        (None, 56, 56, 256)       590080    \n",
      "_________________________________________________________________\n",
      "block3_pool (MaxPooling2D)   (None, 28, 28, 256)       0         \n",
      "_________________________________________________________________\n",
      "block4_conv1 (Conv2D)        (None, 28, 28, 512)       1180160   \n",
      "_________________________________________________________________\n",
      "block4_conv2 (Conv2D)        (None, 28, 28, 512)       2359808   \n",
      "_________________________________________________________________\n",
      "block4_conv3 (Conv2D)        (None, 28, 28, 512)       2359808   \n",
      "_________________________________________________________________\n",
      "block4_pool (MaxPooling2D)   (None, 14, 14, 512)       0         \n",
      "_________________________________________________________________\n",
      "block5_conv1 (Conv2D)        (None, 14, 14, 512)       2359808   \n",
      "_________________________________________________________________\n",
      "block5_conv2 (Conv2D)        (None, 14, 14, 512)       2359808   \n",
      "_________________________________________________________________\n",
      "block5_conv3 (Conv2D)        (None, 14, 14, 512)       2359808   \n",
      "_________________________________________________________________\n",
      "block5_pool (MaxPooling2D)   (None, 7, 7, 512)         0         \n",
      "_________________________________________________________________\n",
      "flatten (Flatten)            (None, 25088)             0         \n",
      "_________________________________________________________________\n",
      "dense (Dense)                (None, 2)                 50178     \n",
      "=================================================================\n",
      "Total params: 14,764,866\n",
      "Trainable params: 50,178\n",
      "Non-trainable params: 14,714,688\n",
      "_________________________________________________________________\n"
     ]
    }
   ],
   "source": [
    "## view the structure of the model\n",
    "model.summary()"
   ]
  },
  {
   "cell_type": "code",
   "execution_count": 17,
   "metadata": {},
   "outputs": [],
   "source": [
    "## tell the model which optimization method to use and what is the cost for this\n",
    "model.compile(loss='categorical_crossentropy',optimizer='adam',metrics=['accuracy'])"
   ]
  },
  {
   "cell_type": "code",
   "execution_count": 18,
   "metadata": {},
   "outputs": [],
   "source": [
    "## to retrieve images from test/train folders, we use imagedatagenerator\n",
    "from keras_preprocessing.image import ImageDataGenerator"
   ]
  },
  {
   "cell_type": "code",
   "execution_count": 19,
   "metadata": {},
   "outputs": [],
   "source": [
    "## to create additional images with respect to train dataset \n",
    "train_datagen=ImageDataGenerator(rescale=1./255,shear_range=0.2,zoom_range=0.2,horizontal_flip=True)"
   ]
  },
  {
   "cell_type": "code",
   "execution_count": 20,
   "metadata": {},
   "outputs": [],
   "source": [
    "test_datagen=ImageDataGenerator(rescale=1./255)"
   ]
  },
  {
   "cell_type": "code",
   "execution_count": 21,
   "metadata": {},
   "outputs": [
    {
     "name": "stdout",
     "output_type": "stream",
     "text": [
      "Found 5216 images belonging to 2 classes.\n"
     ]
    }
   ],
   "source": [
    "training_set=train_datagen.flow_from_directory('Datasets/train',target_size=(224,224),batch_size=32,class_mode='categorical')"
   ]
  },
  {
   "cell_type": "code",
   "execution_count": 22,
   "metadata": {},
   "outputs": [
    {
     "name": "stdout",
     "output_type": "stream",
     "text": [
      "Found 624 images belonging to 2 classes.\n"
     ]
    }
   ],
   "source": [
    "test_set=train_datagen.flow_from_directory('Datasets/test',target_size=(224,224),batch_size=32,class_mode='categorical')"
   ]
  },
  {
   "cell_type": "code",
   "execution_count": 23,
   "metadata": {},
   "outputs": [
    {
     "name": "stderr",
     "output_type": "stream",
     "text": [
      "c:\\Users\\ankit19.gupta\\.conda\\envs\\Self_Projects\\lib\\site-packages\\keras\\engine\\training.py:1972: UserWarning: `Model.fit_generator` is deprecated and will be removed in a future version. Please use `Model.fit`, which supports generators.\n",
      "  warnings.warn('`Model.fit_generator` is deprecated and '\n"
     ]
    },
    {
     "name": "stdout",
     "output_type": "stream",
     "text": [
      "Epoch 1/5\n",
      "163/163 [==============================] - 685s 4s/step - loss: 0.2305 - accuracy: 0.9158 - val_loss: 0.2720 - val_accuracy: 0.9119\n",
      "Epoch 2/5\n",
      "163/163 [==============================] - 697s 4s/step - loss: 0.1393 - accuracy: 0.9459 - val_loss: 0.3933 - val_accuracy: 0.8750\n",
      "Epoch 3/5\n",
      "163/163 [==============================] - 685s 4s/step - loss: 0.0937 - accuracy: 0.9659 - val_loss: 0.3104 - val_accuracy: 0.8958\n",
      "Epoch 4/5\n",
      "163/163 [==============================] - 687s 4s/step - loss: 0.0926 - accuracy: 0.9680 - val_loss: 0.3308 - val_accuracy: 0.9022\n",
      "Epoch 5/5\n",
      "163/163 [==============================] - 770s 5s/step - loss: 0.0733 - accuracy: 0.9722 - val_loss: 0.3659 - val_accuracy: 0.8894\n"
     ]
    }
   ],
   "source": [
    "## fit the model\n",
    "r=model.fit_generator(training_set,validation_data=test_set,epochs=5,steps_per_epoch=len(training_set),validation_steps=len(test_set))"
   ]
  },
  {
   "cell_type": "code",
   "execution_count": 31,
   "metadata": {},
   "outputs": [
    {
     "data": {
      "image/png": "[encoded data removed]",
      "text/plain": [
       "<Figure size 432x288 with 1 Axes>"
      ]
     },
     "metadata": {
      "needs_background": "light"
     },
     "output_type": "display_data"
    },
    {
     "data": {
      "text/plain": [
       "<Figure size 432x288 with 0 Axes>"
      ]
     },
     "metadata": {},
     "output_type": "display_data"
    }
   ],
   "source": [
    "## loss\n",
    "plt.plot(r.history['loss'], label='train loss')\n",
    "plt.plot(r.history['val_loss'], label='val loss')\n",
    "plt.legend()\n",
    "plt.show()\n",
    "plt.savefig('LossVal_loss')"
   ]
  },
  {
   "cell_type": "code",
   "execution_count": 30,
   "metadata": {},
   "outputs": [
    {
     "data": {
      "image/png": "[encoded data removed]",
      "text/plain": [
       "<Figure size 432x288 with 1 Axes>"
      ]
     },
     "metadata": {
      "needs_background": "light"
     },
     "output_type": "display_data"
    },
    {
     "data": {
      "text/plain": [
       "<Figure size 432x288 with 0 Axes>"
      ]
     },
     "metadata": {},
     "output_type": "display_data"
    }
   ],
   "source": [
    "# accuracies\n",
    "plt.plot(r.history['accuracy'], label='train acc')\n",
    "plt.plot(r.history['val_accuracy'], label='val acc')\n",
    "plt.legend()\n",
    "plt.show()\n",
    "plt.savefig('AccVal_acc')"
   ]
  },
  {
   "cell_type": "code",
   "execution_count": 35,
   "metadata": {},
   "outputs": [],
   "source": [
    "import tensorflow as tf\n",
    "\n",
    "from keras.models import load_model\n",
    "\n",
    "model.save('model_vgg16.h5')"
   ]
  },
  {
   "cell_type": "markdown",
   "metadata": {},
   "source": [
    "## Prediction by the Model"
   ]
  },
  {
   "cell_type": "code",
   "execution_count": 36,
   "metadata": {},
   "outputs": [],
   "source": [
    "from keras.models import load_model\n",
    "from keras.preprocessing import image\n",
    "from keras.applications.vgg16 import preprocess_input\n",
    "import numpy as np"
   ]
  },
  {
   "cell_type": "code",
   "execution_count": 39,
   "metadata": {},
   "outputs": [],
   "source": [
    "## load the previously saved model\n",
    "model = load_model('model_vgg16.h5')"
   ]
  },
  {
   "cell_type": "code",
   "execution_count": 40,
   "metadata": {},
   "outputs": [],
   "source": [
    "img = image.load_img('Datasets/val/PNEUMONIA/person1946_bacteria_4874.jpeg', target_size=(224, 224))"
   ]
  },
  {
   "cell_type": "code",
   "execution_count": 41,
   "metadata": {},
   "outputs": [
    {
     "data": {
      "image/png": "[encoded data removed]",
      "text/plain": [
       "<PIL.Image.Image image mode=RGB size=224x224 at 0x24F824FD160>"
      ]
     },
     "execution_count": 41,
     "metadata": {},
     "output_type": "execute_result"
    }
   ],
   "source": [
    "img"
   ]
  },
  {
   "cell_type": "code",
   "execution_count": 42,
   "metadata": {},
   "outputs": [],
   "source": [
    "x = image.img_to_array(img)"
   ]
  },
  {
   "cell_type": "code",
   "execution_count": 43,
   "metadata": {},
   "outputs": [
    {
     "data": {
      "text/plain": [
       "array([[[ 16.,  16.,  16.],\n",
       "        [ 19.,  19.,  19.],\n",
       "        [ 20.,  20.,  20.],\n",
       "        ...,\n",
       "        [ 13.,  13.,  13.],\n",
       "        [ 11.,  11.,  11.],\n",
       "        [ 12.,  12.,  12.]],\n",
       "\n",
       "       [[ 16.,  16.,  16.],\n",
       "        [ 19.,  19.,  19.],\n",
       "        [ 18.,  18.,  18.],\n",
       "        ...,\n",
       "        [ 16.,  16.,  16.],\n",
       "        [ 18.,  18.,  18.],\n",
       "        [ 19.,  19.,  19.]],\n",
       "\n",
       "       [[ 16.,  16.,  16.],\n",
       "        [ 19.,  19.,  19.],\n",
       "        [ 20.,  20.,  20.],\n",
       "        ...,\n",
       "        [ 23.,  23.,  23.],\n",
       "        [ 19.,  19.,  19.],\n",
       "        [ 16.,  16.,  16.]],\n",
       "\n",
       "       ...,\n",
       "\n",
       "       [[  5.,   5.,   5.],\n",
       "        [  1.,   1.,   1.],\n",
       "        [  6.,   6.,   6.],\n",
       "        ...,\n",
       "        [  2.,   2.,   2.],\n",
       "        [  1.,   1.,   1.],\n",
       "        [  0.,   0.,   0.]],\n",
       "\n",
       "       [[255., 255., 255.],\n",
       "        [ 43.,  43.,  43.],\n",
       "        [  6.,   6.,   6.],\n",
       "        ...,\n",
       "        [  2.,   2.,   2.],\n",
       "        [ 27.,  27.,  27.],\n",
       "        [255., 255., 255.]],\n",
       "\n",
       "       [[  0.,   0.,   0.],\n",
       "        [  5.,   5.,   5.],\n",
       "        [  6.,   6.,   6.],\n",
       "        ...,\n",
       "        [  2.,   2.,   2.],\n",
       "        [  0.,   0.,   0.],\n",
       "        [  0.,   0.,   0.]]], dtype=float32)"
      ]
     },
     "execution_count": 43,
     "metadata": {},
     "output_type": "execute_result"
    }
   ],
   "source": [
    "x"
   ]
  },
  {
   "cell_type": "code",
   "execution_count": 46,
   "metadata": {},
   "outputs": [],
   "source": [
    "x = np.expand_dims(x, axis=0)"
   ]
  },
  {
   "cell_type": "code",
   "execution_count": 47,
   "metadata": {},
   "outputs": [
    {
     "data": {
      "text/plain": [
       "array([[[[ 16.,  16.,  16.],\n",
       "         [ 19.,  19.,  19.],\n",
       "         [ 20.,  20.,  20.],\n",
       "         ...,\n",
       "         [ 13.,  13.,  13.],\n",
       "         [ 11.,  11.,  11.],\n",
       "         [ 12.,  12.,  12.]],\n",
       "\n",
       "        [[ 16.,  16.,  16.],\n",
       "         [ 19.,  19.,  19.],\n",
       "         [ 18.,  18.,  18.],\n",
       "         ...,\n",
       "         [ 16.,  16.,  16.],\n",
       "         [ 18.,  18.,  18.],\n",
       "         [ 19.,  19.,  19.]],\n",
       "\n",
       "        [[ 16.,  16.,  16.],\n",
       "         [ 19.,  19.,  19.],\n",
       "         [ 20.,  20.,  20.],\n",
       "         ...,\n",
       "         [ 23.,  23.,  23.],\n",
       "         [ 19.,  19.,  19.],\n",
       "         [ 16.,  16.,  16.]],\n",
       "\n",
       "        ...,\n",
       "\n",
       "        [[  5.,   5.,   5.],\n",
       "         [  1.,   1.,   1.],\n",
       "         [  6.,   6.,   6.],\n",
       "         ...,\n",
       "         [  2.,   2.,   2.],\n",
       "         [  1.,   1.,   1.],\n",
       "         [  0.,   0.,   0.]],\n",
       "\n",
       "        [[255., 255., 255.],\n",
       "         [ 43.,  43.,  43.],\n",
       "         [  6.,   6.,   6.],\n",
       "         ...,\n",
       "         [  2.,   2.,   2.],\n",
       "         [ 27.,  27.,  27.],\n",
       "         [255., 255., 255.]],\n",
       "\n",
       "        [[  0.,   0.,   0.],\n",
       "         [  5.,   5.,   5.],\n",
       "         [  6.,   6.,   6.],\n",
       "         ...,\n",
       "         [  2.,   2.,   2.],\n",
       "         [  0.,   0.,   0.],\n",
       "         [  0.,   0.,   0.]]]], dtype=float32)"
      ]
     },
     "execution_count": 47,
     "metadata": {},
     "output_type": "execute_result"
    }
   ],
   "source": [
    "x"
   ]
  },
  {
   "cell_type": "code",
   "execution_count": 48,
   "metadata": {},
   "outputs": [],
   "source": [
    "img_data = preprocess_input(x)"
   ]
  },
  {
   "cell_type": "code",
   "execution_count": 49,
   "metadata": {},
   "outputs": [
    {
     "data": {
      "text/plain": [
       "array([[[[ -87.939   , -100.779   , -107.68    ],\n",
       "         [ -84.939   ,  -97.779   , -104.68    ],\n",
       "         [ -83.939   ,  -96.779   , -103.68    ],\n",
       "         ...,\n",
       "         [ -90.939   , -103.779   , -110.68    ],\n",
       "         [ -92.939   , -105.779   , -112.68    ],\n",
       "         [ -91.939   , -104.779   , -111.68    ]],\n",
       "\n",
       "        [[ -87.939   , -100.779   , -107.68    ],\n",
       "         [ -84.939   ,  -97.779   , -104.68    ],\n",
       "         [ -85.939   ,  -98.779   , -105.68    ],\n",
       "         ...,\n",
       "         [ -87.939   , -100.779   , -107.68    ],\n",
       "         [ -85.939   ,  -98.779   , -105.68    ],\n",
       "         [ -84.939   ,  -97.779   , -104.68    ]],\n",
       "\n",
       "        [[ -87.939   , -100.779   , -107.68    ],\n",
       "         [ -84.939   ,  -97.779   , -104.68    ],\n",
       "         [ -83.939   ,  -96.779   , -103.68    ],\n",
       "         ...,\n",
       "         [ -80.939   ,  -93.779   , -100.68    ],\n",
       "         [ -84.939   ,  -97.779   , -104.68    ],\n",
       "         [ -87.939   , -100.779   , -107.68    ]],\n",
       "\n",
       "        ...,\n",
       "\n",
       "        [[ -98.939   , -111.779   , -118.68    ],\n",
       "         [-102.939   , -115.779   , -122.68    ],\n",
       "         [ -97.939   , -110.779   , -117.68    ],\n",
       "         ...,\n",
       "         [-101.939   , -114.779   , -121.68    ],\n",
       "         [-102.939   , -115.779   , -122.68    ],\n",
       "         [-103.939   , -116.779   , -123.68    ]],\n",
       "\n",
       "        [[ 151.061   ,  138.22101 ,  131.32    ],\n",
       "         [ -60.939003,  -73.779   ,  -80.68    ],\n",
       "         [ -97.939   , -110.779   , -117.68    ],\n",
       "         ...,\n",
       "         [-101.939   , -114.779   , -121.68    ],\n",
       "         [ -76.939   ,  -89.779   ,  -96.68    ],\n",
       "         [ 151.061   ,  138.22101 ,  131.32    ]],\n",
       "\n",
       "        [[-103.939   , -116.779   , -123.68    ],\n",
       "         [ -98.939   , -111.779   , -118.68    ],\n",
       "         [ -97.939   , -110.779   , -117.68    ],\n",
       "         ...,\n",
       "         [-101.939   , -114.779   , -121.68    ],\n",
       "         [-103.939   , -116.779   , -123.68    ],\n",
       "         [-103.939   , -116.779   , -123.68    ]]]], dtype=float32)"
      ]
     },
     "execution_count": 49,
     "metadata": {},
     "output_type": "execute_result"
    }
   ],
   "source": [
    "img_data"
   ]
  },
  {
   "cell_type": "code",
   "execution_count": 50,
   "metadata": {},
   "outputs": [],
   "source": [
    "classes = model.predict(img_data)"
   ]
  },
  {
   "cell_type": "code",
   "execution_count": 51,
   "metadata": {},
   "outputs": [
    {
     "data": {
      "text/plain": [
       "array([[0., 1.]], dtype=float32)"
      ]
     },
     "execution_count": 51,
     "metadata": {},
     "output_type": "execute_result"
    }
   ],
   "source": [
    "# 0 means normal and 1 means pneumonia and it shows the probability of having normal chest xray scan (i.e. not pneumonia) and\n",
    "## having pneumonia \n",
    "classes"
   ]
  },
  {
   "cell_type": "code",
   "execution_count": 56,
   "metadata": {},
   "outputs": [],
   "source": [
    "## check for normal \n",
    "img = image.load_img('Datasets/val/NORMAL/NORMAL2-IM-1427-0001.jpeg', target_size=(224, 224))\n",
    "x = image.img_to_array(img)\n",
    "x = np.expand_dims(x, axis=0)\n",
    "img_data = preprocess_input(x)\n",
    "classes = model.predict(img_data)"
   ]
  },
  {
   "cell_type": "code",
   "execution_count": 57,
   "metadata": {},
   "outputs": [
    {
     "data": {
      "text/plain": [
       "array([[1.000000e+00, 4.644664e-11]], dtype=float32)"
      ]
     },
     "execution_count": 57,
     "metadata": {},
     "output_type": "execute_result"
    }
   ],
   "source": [
    "## 4.644 IS VERLY LOW VALUE AND 1.OOO IS VERY HIGH VALUE FOR PROBABILITY BETWEEN O AND 1\n",
    "classes"
   ]
  },
  {
   "cell_type": "code",
   "execution_count": null,
   "metadata": {},
   "outputs": [],
   "source": []
  }
 ],
 "metadata": {
  "kernelspec": {
   "display_name": "Self_Projects",
   "language": "python",
   "name": "python3"
  },
  "language_info": {
   "codemirror_mode": {
    "name": "ipython",
    "version": 3
   },
   "file_extension": ".py",
   "mimetype": "text/x-python",
   "name": "python",
   "nbconvert_exporter": "python",
   "pygments_lexer": "ipython3",
   "version": "3.6.13"
  },
  "orig_nbformat": 4
 },
 "nbformat": 4,
 "nbformat_minor": 2
}
